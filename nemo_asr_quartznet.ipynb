{
  "nbformat": 4,
  "nbformat_minor": 0,
  "metadata": {
    "colab": {
      "name": "nemo_asr_quartznet.ipynb",
      "provenance": [],
      "collapsed_sections": [],
      "include_colab_link": true
    },
    "kernelspec": {
      "name": "python3",
      "display_name": "Python 3"
    }
  },
  "cells": [
    {
      "cell_type": "markdown",
      "metadata": {
        "id": "view-in-github",
        "colab_type": "text"
      },
      "source": [
        "<a href=\"https://colab.research.google.com/github/peterhanlon/NLP-with-Python/blob/master/nemo_asr_quartznet.ipynb\" target=\"_parent\"><img src=\"https://colab.research.google.com/assets/colab-badge.svg\" alt=\"Open In Colab\"/></a>"
      ]
    },
    {
      "cell_type": "code",
      "metadata": {
        "id": "sZgzTRhzoC-D"
      },
      "source": [
        "from google.colab import drive\n",
        "drive.mount('/content/drive')"
      ],
      "execution_count": null,
      "outputs": []
    },
    {
      "cell_type": "code",
      "metadata": {
        "id": "lirMwf5t4twv"
      },
      "source": [
        "!python -m pip install git+https://github.com/NVIDIA/NeMo.git@$BRANCH#egg=nemo_toolkit[all]"
      ],
      "execution_count": null,
      "outputs": []
    },
    {
      "cell_type": "code",
      "metadata": {
        "id": "6W9_0SgAdJzt"
      },
      "source": [
        "!pip install librosa"
      ],
      "execution_count": null,
      "outputs": []
    },
    {
      "cell_type": "code",
      "metadata": {
        "id": "9Fm-Xwfw4rkY"
      },
      "source": [
        "# NeMo's \"core\" package\n",
        "import nemo\n",
        "# NeMo's ASR collection - this collections contains complete ASR models and\n",
        "# building blocks (modules) for ASR\n",
        "import nemo.collections.asr as nemo_asr\n",
        "import nemo.collections.nlp as nemo_nlp"
      ],
      "execution_count": null,
      "outputs": []
    },
    {
      "cell_type": "code",
      "metadata": {
        "colab": {
          "base_uri": "https://localhost:8080/"
        },
        "id": "4DBoHfxA5slE",
        "outputId": "17cf20cf-9959-429c-d3ff-1dc57dc139e3"
      },
      "source": [
        "# This line will download pre-trained QuartzNet15x5 model from NVIDIA's NGC cloud and instantiate it for you\n",
        "quartznet = nemo_asr.models.EncDecCTCModel.from_pretrained(model_name=\"QuartzNet15x5Base-En\")"
      ],
      "execution_count": 55,
      "outputs": [
        {
          "output_type": "stream",
          "text": [
            "[NeMo I 2021-01-02 15:54:49 cloud:56] Found existing object /root/.cache/torch/NeMo/NeMo_1.0.0b4/QuartzNet15x5Base-En/00869f9c89b8393ca3de640e0c536bd2/QuartzNet15x5Base-En.nemo.\n",
            "[NeMo I 2021-01-02 15:54:49 cloud:62] Re-using file from: /root/.cache/torch/NeMo/NeMo_1.0.0b4/QuartzNet15x5Base-En/00869f9c89b8393ca3de640e0c536bd2/QuartzNet15x5Base-En.nemo\n",
            "[NeMo I 2021-01-02 15:54:49 common:423] Instantiating model from pre-trained checkpoint\n",
            "[NeMo I 2021-01-02 15:54:50 features:235] PADDING: 16\n",
            "[NeMo I 2021-01-02 15:54:50 features:251] STFT using torch\n",
            "[NeMo I 2021-01-02 15:54:51 modelPT:402] Model EncDecCTCModel was successfully restored from /root/.cache/torch/NeMo/NeMo_1.0.0b4/QuartzNet15x5Base-En/00869f9c89b8393ca3de640e0c536bd2/QuartzNet15x5Base-En.nemo.\n"
          ],
          "name": "stdout"
        }
      ]
    },
    {
      "cell_type": "code",
      "metadata": {
        "colab": {
          "base_uri": "https://localhost:8080/"
        },
        "id": "xLj57pV2zmzY",
        "outputId": "9ef8d7c3-20ed-4803-ee02-72e2edaf5c00"
      },
      "source": [
        "# Punctuation and capitalization model\n",
        "punctuation = nemo_nlp.models.PunctuationCapitalizationModel.from_pretrained(model_name='Punctuation_Capitalization_with_DistilBERT')"
      ],
      "execution_count": 57,
      "outputs": [
        {
          "output_type": "stream",
          "text": [
            "[NeMo I 2021-01-02 15:56:09 cloud:56] Found existing object /root/.cache/torch/NeMo/NeMo_1.0.0b4/Punctuation_Capitalization_with_DistilBERT/6906a3705a7989aa9995aed680fb5d22/Punctuation_Capitalization_with_DistilBERT.nemo.\n",
            "[NeMo I 2021-01-02 15:56:09 cloud:62] Re-using file from: /root/.cache/torch/NeMo/NeMo_1.0.0b4/Punctuation_Capitalization_with_DistilBERT/6906a3705a7989aa9995aed680fb5d22/Punctuation_Capitalization_with_DistilBERT.nemo\n",
            "[NeMo I 2021-01-02 15:56:09 common:423] Instantiating model from pre-trained checkpoint\n"
          ],
          "name": "stdout"
        },
        {
          "output_type": "stream",
          "text": [
            "Using bos_token, but it is not set yet.\n",
            "Using eos_token, but it is not set yet.\n",
            "[NeMo W 2021-01-02 15:56:13 modelPT:146] Please call the ModelPT.setup_training_data() method and provide a valid configuration file to setup the train data loader.\n",
            "    Train config : \n",
            "    text_file: text_train.txt\n",
            "    labels_file: labels_train.txt\n",
            "    shuffle: true\n",
            "    num_samples: -1\n",
            "    batch_size: 64\n",
            "    \n",
            "[NeMo W 2021-01-02 15:56:13 modelPT:153] Please call the ModelPT.setup_validation_data() or ModelPT.setup_multiple_validation_data() method and provide a valid configuration file to setup the validation data loader(s). \n",
            "    Validation config : \n",
            "    ds_item: null\n",
            "    text_file: text_dev.txt\n",
            "    labels_file: labels_dev.txt\n",
            "    shuffle: false\n",
            "    num_samples: -1\n",
            "    batch_size: 64\n",
            "    \n",
            "[NeMo W 2021-01-02 15:56:13 modelPT:1175] World size can only be set by PyTorch Lightning Trainer.\n"
          ],
          "name": "stderr"
        },
        {
          "output_type": "stream",
          "text": [
            "[NeMo I 2021-01-02 15:56:17 modelPT:402] Model PunctuationCapitalizationModel was successfully restored from /root/.cache/torch/NeMo/NeMo_1.0.0b4/Punctuation_Capitalization_with_DistilBERT/6906a3705a7989aa9995aed680fb5d22/Punctuation_Capitalization_with_DistilBERT.nemo.\n"
          ],
          "name": "stdout"
        }
      ]
    },
    {
      "cell_type": "markdown",
      "metadata": {
        "id": "yvlYqcs-0erA"
      },
      "source": [
        "Use the NeMo punctuation model to puctuctuate the text"
      ]
    },
    {
      "cell_type": "code",
      "metadata": {
        "colab": {
          "base_uri": "https://localhost:8080/"
        },
        "id": "7-tirxaMz8de",
        "outputId": "0c5ab85d-10f7-489b-873d-51639263b85d"
      },
      "source": [
        "def punctuation(raw_text):\n",
        "  res = punctuation.add_punctuation_capitalization(queries=[raw_text])\n",
        "  return res[0]\n"
      ],
      "execution_count": 59,
      "outputs": [
        {
          "output_type": "stream",
          "text": [
            "[NeMo I 2021-01-02 15:56:50 punctuation_capitalization_model:374] Using batch size 1 for inference\n",
            "[NeMo I 2021-01-02 15:56:50 punctuation_capitalization_dataset:134] Max length: 10\n",
            "[NeMo I 2021-01-02 15:56:50 data_preprocessing:295] Some stats of the lengths of the sequences:\n",
            "[NeMo I 2021-01-02 15:56:50 data_preprocessing:301] Min: 10 |                  Max: 10 |                  Mean: 10.0 |                  Median: 10.0\n",
            "[NeMo I 2021-01-02 15:56:50 data_preprocessing:303] 75 percentile: 10.00\n",
            "[NeMo I 2021-01-02 15:56:50 data_preprocessing:304] 99 percentile: 10.00\n",
            "[NeMo I 2021-01-02 15:56:50 punctuation_capitalization_dataset:165] 0 are longer than 10\n",
            "[NeMo I 2021-01-02 15:56:50 punctuation_capitalization_dataset:168] *** Example ***\n",
            "[NeMo I 2021-01-02 15:56:50 punctuation_capitalization_dataset:169] i: 0\n",
            "[NeMo I 2021-01-02 15:56:50 punctuation_capitalization_dataset:170] subtokens: [CLS] this is a test my name is peter [SEP]\n",
            "[NeMo I 2021-01-02 15:56:50 punctuation_capitalization_dataset:171] loss_mask: 1 1 1 1 1 1 1 1 1 1\n",
            "[NeMo I 2021-01-02 15:56:50 punctuation_capitalization_dataset:172] input_mask: 1 1 1 1 1 1 1 1 1 1\n",
            "[NeMo I 2021-01-02 15:56:50 punctuation_capitalization_dataset:173] subtokens_mask: 0 1 1 1 1 1 1 1 1 0\n",
            "\n",
            "Raw recognized text: this is a test my name is peter. \n",
            "Text with capitalization and punctuation: This is a test. My name is Peter.\n"
          ],
          "name": "stdout"
        }
      ]
    },
    {
      "cell_type": "code",
      "metadata": {
        "id": "3xEISDtyxuFn"
      },
      "source": [
        "from scipy.io import wavfile\n",
        "fs, data = wavfile.read('/content/drive/MyDrive/audio/example.wav')\n",
        "wavfile.write('/content/drive/MyDrive/audio/example_channel_0.wav', fs, data[:, 0])"
      ],
      "execution_count": 48,
      "outputs": []
    },
    {
      "cell_type": "markdown",
      "metadata": {
        "id": "1Kuj-dz-lShI"
      },
      "source": [
        "This Version used SOX \n",
        "You must have mono audio with a sample rate of 16000. If not use the following command to fix the wav file.\n",
        "sox ./example.wav ./example-resample.wav rate 16000 remix 1"
      ]
    },
    {
      "cell_type": "code",
      "metadata": {
        "colab": {
          "base_uri": "https://localhost:8080/"
        },
        "id": "ldtUXpeN1ELw",
        "outputId": "70bda075-7a88-4232-a99c-4d8fcbb8a1b0"
      },
      "source": [
        "files = ['/content/drive/MyDrive/audio/example_resampled_sox.wav']\n",
        "transcription = quartznet.transcribe(paths2audio_files=files)\n",
        "\n",
        "for trans in transcription:\n",
        "  print(trans)"
      ],
      "execution_count": 39,
      "outputs": [
        {
          "output_type": "stream",
          "text": [
            "good morning teach johnsinco how can i help youokay are you looking for a property to buy o are you looking for a proparcy to rent okay so thires one specific so do you want to organize a viewing on that prophete okay what's your name please and you sa name's faceokay and which propecy is that you interested in does it give you a road name es it does it not give you the name of the roadand how much is um fulland it still runs yeahis that three foull six seven a month okay and umd so when would you be looking for a viewing when when would you like to view itokaywhat was the name of the building adain sorry i'm just trying to locate the detailsokay so i'd need to check with i see what we can organize for a viewing four yame um afraid the office is close the day due to a being a bank holiday i can have somebody give you a call back tomorrow to see what can be arranged for youright okay um okay what's the number yep yeah yeah okay and um do you have any email addresses another points of contactokayjusian then your your surname was that visa vixta ee acco grifedelta artheromeo efo accho v for victorso whic which letters not rightokayyeahthe first names ser name then the letter b for bravo at jimal dot comsugar aste sugarright okay okay thank you and so you're not living in the u k at the momentokay no problem well if you leave this with me i will get soemessae ova for you to receive a call back um i'm sorry a message by whats ap tomorrow wants et back in the office okayokay no problem leave this his name okay no problem thank you right\n"
          ],
          "name": "stdout"
        }
      ]
    },
    {
      "cell_type": "code",
      "metadata": {
        "id": "-nPl3TPkdG93"
      },
      "source": [
        "from pydub import AudioSegment\n",
        "sound = AudioSegment.from_file(\"/content/drive/MyDrive/audio/example_channel_0.wav\", format=\"wav\")\n",
        "sound = sound.set_frame_rate(16000)\n",
        "\n",
        "# more complex export\n",
        "file_handle = sound.export(\"/content/drive/MyDrive/audio/example_resampled_pydub.wav\",\n",
        "                           format=\"wav\",\n",
        "                           bitrate=\"16k\")\n"
      ],
      "execution_count": 51,
      "outputs": []
    },
    {
      "cell_type": "code",
      "metadata": {
        "colab": {
          "base_uri": "https://localhost:8080/"
        },
        "id": "mMqu-6HwOUiu",
        "outputId": "fedaf18c-015a-4775-8172-3d588c9087ab"
      },
      "source": [
        "files = ['/content/drive/MyDrive/audio/example_resampled_pydub.wav']\n",
        "transcription = quartznet.transcribe(paths2audio_files=files)\n",
        "\n",
        "for trans in transcription:\n",
        "  print(trans)"
      ],
      "execution_count": 52,
      "outputs": [
        {
          "output_type": "stream",
          "text": [
            "good morning teach juhmpsind cao how can i help youokay are you looking for a property to buy or are you looking for a property to rent okay so there's one specific say do you want to organize a viewing on that properta  what's your name tlease and you finane fave okay in which property is at you interested in does it give you a road name it does it not give you the name of the roadand how much is it im foraits sevenampis hat three four six seven a monthand then so when would you be looking for a vewing when when would you like to view itokay what was the name of the building again sorry i'm just trying to locate the detailokay so i'd meed to check with a tea what we can organize firviewing four yam am afraid the offices close the day due to a binga bank holiday i can have somebody give you a call back that tomorrow to see what can be arranged for youlike okay i'm okay what's the number yep yep yep okay and graham do you have en email addresses and other points of contactokay jistoneou your surname wis at vifa victor ev aco difedelta arthromeo e accho vifa victor soh which letters that right okay yep the first name ser name then the letteb for bravo at jimatcomsugar the sugar mai okay thank yaa and sat you're not living in the u k at the momentokay no problem well if you leave this with me i will get a message ove for you to receive a call back and absory a message by whatfac tomorrow wants e back in the office okayokay no problem leave this with me\n"
          ],
          "name": "stdout"
        }
      ]
    },
    {
      "cell_type": "markdown",
      "metadata": {
        "id": "iyRF-oVwxxgZ"
      },
      "source": [
        "Extract a single channel from the wavfile"
      ]
    },
    {
      "cell_type": "code",
      "metadata": {
        "id": "-BPAD0belz0x"
      },
      "source": [
        "\n",
        "import librosa\n",
        "y, sr = librosa.load('/content/drive/MyDrive/audio/example_channel_0.wav')\n",
        "data = librosa.resample(y, sr, 16000)\n",
        "librosa.output.write_wav('/content/drive/MyDrive/audio/example_resample_librosa.wav', data, 16000)\n"
      ],
      "execution_count": 49,
      "outputs": []
    },
    {
      "cell_type": "code",
      "metadata": {
        "colab": {
          "base_uri": "https://localhost:8080/",
          "height": 341
        },
        "id": "_yHX0BkVmdS7",
        "outputId": "48ea7d6d-2d7d-47e0-9fe9-63eb0e49063a"
      },
      "source": [
        "files = ['/content/drive/MyDrive/audio/example_resample_librosa.wav']\n",
        "transcription = quartznet.transcribe(paths2audio_files=files)\n",
        "\n",
        "for trans in transcription:\n",
        "  print(punctuation(trans))"
      ],
      "execution_count": 60,
      "outputs": [
        {
          "output_type": "error",
          "ename": "TypeError",
          "evalue": "ignored",
          "traceback": [
            "\u001b[0;31m---------------------------------------------------------------------------\u001b[0m",
            "\u001b[0;31mTypeError\u001b[0m                                 Traceback (most recent call last)",
            "\u001b[0;32m<ipython-input-60-4725b032a6f9>\u001b[0m in \u001b[0;36m<module>\u001b[0;34m()\u001b[0m\n\u001b[1;32m      3\u001b[0m \u001b[0;34m\u001b[0m\u001b[0m\n\u001b[1;32m      4\u001b[0m \u001b[0;32mfor\u001b[0m \u001b[0mtrans\u001b[0m \u001b[0;32min\u001b[0m \u001b[0mtranscription\u001b[0m\u001b[0;34m:\u001b[0m\u001b[0;34m\u001b[0m\u001b[0;34m\u001b[0m\u001b[0m\n\u001b[0;32m----> 5\u001b[0;31m   \u001b[0mprint\u001b[0m\u001b[0;34m(\u001b[0m\u001b[0mpunctuation\u001b[0m\u001b[0;34m(\u001b[0m\u001b[0mtrans\u001b[0m\u001b[0;34m)\u001b[0m\u001b[0;34m)\u001b[0m\u001b[0;34m\u001b[0m\u001b[0;34m\u001b[0m\u001b[0m\n\u001b[0m",
            "\u001b[0;32m/usr/local/lib/python3.6/dist-packages/torch/nn/modules/module.py\u001b[0m in \u001b[0;36m_call_impl\u001b[0;34m(self, *input, **kwargs)\u001b[0m\n\u001b[1;32m    725\u001b[0m             \u001b[0mresult\u001b[0m \u001b[0;34m=\u001b[0m \u001b[0mself\u001b[0m\u001b[0;34m.\u001b[0m\u001b[0m_slow_forward\u001b[0m\u001b[0;34m(\u001b[0m\u001b[0;34m*\u001b[0m\u001b[0minput\u001b[0m\u001b[0;34m,\u001b[0m \u001b[0;34m**\u001b[0m\u001b[0mkwargs\u001b[0m\u001b[0;34m)\u001b[0m\u001b[0;34m\u001b[0m\u001b[0;34m\u001b[0m\u001b[0m\n\u001b[1;32m    726\u001b[0m         \u001b[0;32melse\u001b[0m\u001b[0;34m:\u001b[0m\u001b[0;34m\u001b[0m\u001b[0;34m\u001b[0m\u001b[0m\n\u001b[0;32m--> 727\u001b[0;31m             \u001b[0mresult\u001b[0m \u001b[0;34m=\u001b[0m \u001b[0mself\u001b[0m\u001b[0;34m.\u001b[0m\u001b[0mforward\u001b[0m\u001b[0;34m(\u001b[0m\u001b[0;34m*\u001b[0m\u001b[0minput\u001b[0m\u001b[0;34m,\u001b[0m \u001b[0;34m**\u001b[0m\u001b[0mkwargs\u001b[0m\u001b[0;34m)\u001b[0m\u001b[0;34m\u001b[0m\u001b[0;34m\u001b[0m\u001b[0m\n\u001b[0m\u001b[1;32m    728\u001b[0m         for hook in itertools.chain(\n\u001b[1;32m    729\u001b[0m                 \u001b[0m_global_forward_hooks\u001b[0m\u001b[0;34m.\u001b[0m\u001b[0mvalues\u001b[0m\u001b[0;34m(\u001b[0m\u001b[0;34m)\u001b[0m\u001b[0;34m,\u001b[0m\u001b[0;34m\u001b[0m\u001b[0;34m\u001b[0m\u001b[0m\n",
            "\u001b[0;32m/usr/local/lib/python3.6/dist-packages/nemo/core/classes/common.py\u001b[0m in \u001b[0;36m__call__\u001b[0;34m(self, wrapped, instance, args, kwargs)\u001b[0m\n\u001b[1;32m    527\u001b[0m         \u001b[0;31m# Check that all arguments are kwargs\u001b[0m\u001b[0;34m\u001b[0m\u001b[0;34m\u001b[0m\u001b[0;34m\u001b[0m\u001b[0m\n\u001b[1;32m    528\u001b[0m         \u001b[0;32mif\u001b[0m \u001b[0minput_types\u001b[0m \u001b[0;32mis\u001b[0m \u001b[0;32mnot\u001b[0m \u001b[0;32mNone\u001b[0m \u001b[0;32mand\u001b[0m \u001b[0mlen\u001b[0m\u001b[0;34m(\u001b[0m\u001b[0margs\u001b[0m\u001b[0;34m)\u001b[0m \u001b[0;34m>\u001b[0m \u001b[0;36m0\u001b[0m\u001b[0;34m:\u001b[0m\u001b[0;34m\u001b[0m\u001b[0;34m\u001b[0m\u001b[0m\n\u001b[0;32m--> 529\u001b[0;31m             \u001b[0;32mraise\u001b[0m \u001b[0mTypeError\u001b[0m\u001b[0;34m(\u001b[0m\u001b[0;34m\"All arguments must be passed by kwargs only for typed methods\"\u001b[0m\u001b[0;34m)\u001b[0m\u001b[0;34m\u001b[0m\u001b[0;34m\u001b[0m\u001b[0m\n\u001b[0m\u001b[1;32m    530\u001b[0m \u001b[0;34m\u001b[0m\u001b[0m\n\u001b[1;32m    531\u001b[0m         \u001b[0;31m# Perform rudimentary input checks here\u001b[0m\u001b[0;34m\u001b[0m\u001b[0;34m\u001b[0m\u001b[0;34m\u001b[0m\u001b[0m\n",
            "\u001b[0;31mTypeError\u001b[0m: All arguments must be passed by kwargs only for typed methods"
          ]
        }
      ]
    }
  ]
}